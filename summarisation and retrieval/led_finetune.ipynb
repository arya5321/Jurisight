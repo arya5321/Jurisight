{
 "cells": [
  {
   "cell_type": "code",
   "execution_count": 1,
   "metadata": {},
   "outputs": [],
   "source": [
    "import os\n",
    "os.environ[\"CUDA_VISIBLE_DEVICES\"]=\"1\"\n",
    "os.environ[\"CUDA_LAUNCH_BLOCKING\"]=\"1\""
   ]
  },
  {
   "cell_type": "code",
   "execution_count": 2,
   "metadata": {},
   "outputs": [],
   "source": [
    "val_files = []"
   ]
  },
  {
   "cell_type": "code",
   "execution_count": 3,
   "metadata": {},
   "outputs": [],
   "source": [
    "#pip install datasets"
   ]
  },
  {
   "cell_type": "code",
   "execution_count": 4,
   "metadata": {},
   "outputs": [
    {
     "name": "stderr",
     "output_type": "stream",
     "text": [
      "[nltk_data] Downloading package punkt to\n",
      "[nltk_data]     C:\\Users\\Dell\\AppData\\Roaming\\nltk_data...\n",
      "[nltk_data]   Package punkt is already up-to-date!\n",
      "c:\\Users\\Dell\\.conda\\envs\\newenv\\lib\\site-packages\\tqdm\\auto.py:21: TqdmWarning: IProgress not found. Please update jupyter and ipywidgets. See https://ipywidgets.readthedocs.io/en/stable/user_install.html\n",
      "  from .autonotebook import tqdm as notebook_tqdm\n"
     ]
    }
   ],
   "source": [
    "import os\n",
    "import numpy as np\n",
    "import pandas as pd\n",
    "import nltk\n",
    "nltk.download('punkt')\n",
    "\n",
    "from IPython.display import display, HTML\n",
    "from datasets import load_dataset, Dataset\n",
    "from transformers import AutoTokenizer\n",
    "from transformers import AutoModelForSeq2SeqLM\n",
    "from transformers import Seq2SeqTrainer, Seq2SeqTrainingArguments"
   ]
  },
  {
   "cell_type": "code",
   "execution_count": 5,
   "metadata": {},
   "outputs": [],
   "source": [
    "model_name = \"nsi319/legal-led-base-16384\"\n",
    "tokenizer = AutoTokenizer.from_pretrained(model_name)"
   ]
  },
  {
   "cell_type": "code",
   "execution_count": 6,
   "metadata": {},
   "outputs": [],
   "source": [
    "def getData(tokenizer, dataPath, MAX_DOC_LEN, val = 0):\n",
    "\tdocumentPath = f'{dataPath}/judgement'\n",
    "\tsummaryPath = f'{dataPath}/summary'\n",
    "\tdataset = {'document':[], 'summary':[]}\n",
    "\tcount = 0\n",
    "\tfor file in os.listdir(documentPath):\n",
    "\t\tcount += 1\n",
    "\t\tif os.stat(f'{documentPath}/{file}').st_size == 0 or os.stat(f'{summaryPath}/{file}').st_size == 0:\n",
    "\t\t\tcontinue\n",
    "\t\tdoc_in = open(f'{documentPath}/{file}', 'r', encoding='utf8')\n",
    "\t\tdoc_lines = [line.strip() for line in doc_in.readlines()]\n",
    "\t\tsumm_in = open(f'{summaryPath}/{file}', 'r', encoding='utf8')\n",
    "\t\tsumm_lines = [line.strip() for line in summ_in.readlines()]\n",
    "\t\tif len(doc_lines) == 0 or len(summ_lines) == 0:\n",
    "\t\t\tcontinue\n",
    "\n",
    "\t\tif val == 0 and file not in val_files:\n",
    "\t\t\tdataset['document'].append(' '.join(doc_lines))\n",
    "\t\t\tdataset['summary'].append(' '.join(summ_lines))\n",
    "\t\tif val == 1 and file in val_files:\n",
    "\t\t\tdataset['document'].append(' '.join(doc_lines))\n",
    "\t\t\tdataset['summary'].append(' '.join(summ_lines))\n",
    "\n",
    "\tdf = pd.DataFrame(dataset)\n",
    "\treturn df\n",
    "exp = 'exp1'"
   ]
  },
  {
   "cell_type": "code",
   "execution_count": 9,
   "metadata": {},
   "outputs": [],
   "source": [
    "exp = 'exp1'\n",
    "encoder_max_length = 1024*16\n",
    "decoder_max_length = 1024\n",
    "batch_size = 1\n",
    "n_epochs = 3"
   ]
  },
  {
   "cell_type": "code",
   "execution_count": 10,
   "metadata": {},
   "outputs": [],
   "source": [
    "dataPath = \"IN-Abs\"\n",
    "train_df = getData(tokenizer, f'{dataPath}/train-data', encoder_max_length-2)\n",
    "train_dataset = Dataset.from_pandas(train_df)\n",
    "val_df = getData(tokenizer, f'{dataPath}/test-data', encoder_max_length-2)\n",
    "val_dataset = Dataset.from_pandas(val_df)"
   ]
  },
  {
   "cell_type": "code",
   "execution_count": 11,
   "metadata": {},
   "outputs": [],
   "source": [
    "def process_data_to_model_inputs(batch):\n",
    "    # tokenize the inputs and labels\n",
    "    inputs = tokenizer(\n",
    "        batch[\"document\"],\n",
    "        padding=\"max_length\",\n",
    "        truncation=True,\n",
    "        max_length=encoder_max_length,\n",
    "    )\n",
    "    outputs = tokenizer(\n",
    "        batch[\"summary\"],\n",
    "        padding=\"max_length\",\n",
    "        truncation=True,\n",
    "        max_length=decoder_max_length,\n",
    "    )\n",
    "\n",
    "    batch[\"input_ids\"] = inputs.input_ids\n",
    "    batch[\"attention_mask\"] = inputs.attention_mask\n",
    "\n",
    "    # create 0 global_attention_mask lists\n",
    "    batch[\"global_attention_mask\"] = len(batch[\"input_ids\"]) * [\n",
    "        [0 for _ in range(len(batch[\"input_ids\"][0]))]\n",
    "    ]\n",
    "\n",
    "    # since above lists are references, the following line changes the 0 index for all samples\n",
    "    batch[\"global_attention_mask\"][0][0] = 1\n",
    "    batch[\"labels\"] = outputs.input_ids\n",
    "\n",
    "    # We have to make sure that the PAD token is ignored\n",
    "    batch[\"labels\"] = [\n",
    "        [-100 if token == tokenizer.pad_token_id else token for token in labels]\n",
    "        for labels in batch[\"labels\"]\n",
    "    ]\n",
    "\n",
    "    return batch"
   ]
  },
  {
   "cell_type": "code",
   "execution_count": 12,
   "metadata": {},
   "outputs": [
    {
     "name": "stderr",
     "output_type": "stream",
     "text": [
      "Map: 100%|██████████| 7028/7028 [03:51<00:00, 30.41 examples/s]\n"
     ]
    }
   ],
   "source": [
    "# map train data\n",
    "train_dataset = train_dataset.map(\n",
    "    process_data_to_model_inputs,\n",
    "    batched=True,\n",
    "    batch_size=batch_size,\n",
    "    remove_columns=[\"document\", \"summary\"],\n",
    ")"
   ]
  },
  {
   "cell_type": "code",
   "execution_count": 13,
   "metadata": {},
   "outputs": [
    {
     "name": "stderr",
     "output_type": "stream",
     "text": [
      "Map: 100%|██████████| 100/100 [00:03<00:00, 27.15 examples/s]\n"
     ]
    }
   ],
   "source": [
    "# map val data\n",
    "val_dataset = val_dataset.map(\n",
    "    process_data_to_model_inputs,\n",
    "    batched=True,\n",
    "    batch_size=batch_size,\n",
    "    remove_columns=[\"document\", \"summary\"],\n",
    ")"
   ]
  },
  {
   "cell_type": "code",
   "execution_count": 14,
   "metadata": {},
   "outputs": [],
   "source": [
    "# set Python list to PyTorch tensor\n",
    "train_dataset.set_format(\n",
    "    type=\"torch\",\n",
    "    columns=[\"input_ids\", \"attention_mask\", \"global_attention_mask\", \"labels\"],\n",
    ")\n",
    "\n",
    "# set Python list to PyTorch tensor\n",
    "val_dataset.set_format(\n",
    "    type=\"torch\",\n",
    "    columns=[\"input_ids\", \"attention_mask\", \"global_attention_mask\", \"labels\"],\n",
    ")"
   ]
  },
  {
   "cell_type": "code",
   "execution_count": 15,
   "metadata": {},
   "outputs": [],
   "source": [
    "#pip install evaluate rouge_score"
   ]
  },
  {
   "cell_type": "code",
   "execution_count": 16,
   "metadata": {},
   "outputs": [
    {
     "name": "stderr",
     "output_type": "stream",
     "text": [
      "[nltk_data] Downloading package punkt to\n",
      "[nltk_data]     C:\\Users\\Dell\\AppData\\Roaming\\nltk_data...\n",
      "[nltk_data]   Package punkt is already up-to-date!\n"
     ]
    }
   ],
   "source": [
    "import evaluate\n",
    "import nltk\n",
    "nltk.download('punkt')\n",
    "\n",
    "# load rouge\n",
    "rouge = evaluate.load(\"rouge\")\n",
    "\n",
    "def postprocess_text(preds, labels):\n",
    "\tpreds = [pred.strip() for pred in preds]\n",
    "\tlabels = [label.strip() for label in labels]\n",
    "\n",
    "\t# rougeLSum expects newline after each sentence\n",
    "\tpreds = [\"\\n\".join(nltk.sent_tokenize(pred)) for pred in preds]\n",
    "\tlabels = [\"\\n\".join(nltk.sent_tokenize(label)) for label in labels]\n",
    "\n",
    "\treturn preds, labels\n",
    "\n",
    "\n",
    "def compute_metrics(pred):\n",
    "\tlabels_ids = pred.label_ids\n",
    "\tpred_ids = pred.predictions\n",
    "\n",
    "\tpred_str = tokenizer.batch_decode(pred_ids, skip_special_tokens=True)\n",
    "\tlabels_ids[labels_ids == -100] = tokenizer.pad_token_id\n",
    "\tlabel_str = tokenizer.batch_decode(labels_ids, skip_special_tokens=True)\n",
    "\n",
    "\t# Some simple post-processing\n",
    "\tpred_str, label_str = postprocess_text(pred_str, label_str)\n",
    "\n",
    "\tresult = rouge.compute(\n",
    "\t\tpredictions=pred_str, references=label_str, use_stemmer=True\n",
    "\t)\n",
    "\n",
    "\t# Extract a few results from ROUGE\n",
    "\tresult = {key: value.mid.fmeasure * 100 for key, value in result.items()}\n",
    "\n",
    "\tprediction_lens = [\n",
    "\t\tnp.count_nonzero(pred != tokenizer.pad_token_id) for pred in pred_ids\n",
    "\t]\n",
    "\tresult[\"gen_len\"] = np.mean(prediction_lens)\n",
    "\tresult = {k: round(v, 4) for k, v in result.items()}\n",
    "\n",
    "\treturn result"
   ]
  },
  {
   "cell_type": "code",
   "execution_count": 17,
   "metadata": {},
   "outputs": [
    {
     "name": "stderr",
     "output_type": "stream",
     "text": [
      "c:\\Users\\Dell\\.conda\\envs\\newenv\\lib\\site-packages\\transformers\\training_args.py:1568: FutureWarning: `evaluation_strategy` is deprecated and will be removed in version 4.46 of 🤗 Transformers. Use `eval_strategy` instead\n",
      "  warnings.warn(\n"
     ]
    }
   ],
   "source": [
    "training_args = Seq2SeqTrainingArguments(\n",
    "\toutput_dir=f\"results/led/final/{exp}\",\n",
    "\tnum_train_epochs=n_epochs,\n",
    "\tper_device_train_batch_size=batch_size,\n",
    "\tper_device_eval_batch_size=batch_size,\n",
    "\tfp16=True,\n",
    "\tevaluation_strategy=\"epoch\",\n",
    "\tsave_strategy=\"epoch\",\n",
    "\tload_best_model_at_end=True,\n",
    "\tmetric_for_best_model=\"eval_rouge2\",\n",
    "\tgreater_is_better=True,\n",
    "\twarmup_steps=200,\n",
    "\tpredict_with_generate=True,\n",
    "\tlogging_dir=f\"led_logs/final/{exp}\",\n",
    "\tlogging_steps=50,\n",
    "    gradient_accumulation_steps=4,\n",
    "\tsave_total_limit=1 #save only the best model\n",
    ")"
   ]
  },
  {
   "cell_type": "code",
   "execution_count": 18,
   "metadata": {},
   "outputs": [],
   "source": [
    "#pip install transformers[torch]"
   ]
  },
  {
   "cell_type": "code",
   "execution_count": null,
   "metadata": {},
   "outputs": [
    {
     "name": "stderr",
     "output_type": "stream",
     "text": [
      "C:\\Users\\Dell\\AppData\\Local\\Temp\\ipykernel_20008\\2684207137.py:14: FutureWarning: `tokenizer` is deprecated and will be removed in version 5.0.0 for `Seq2SeqTrainer.__init__`. Use `processing_class` instead.\n",
      "  trainer = Seq2SeqTrainer(\n"
     ]
    }
   ],
   "source": [
    "# load model\n",
    "led = AutoModelForSeq2SeqLM.from_pretrained(model_name, gradient_checkpointing=True, use_cache=False)\n",
    "\n",
    "# set generate hyperparameters\n",
    "led.config.num_beams = 2\n",
    "led.config.max_length = decoder_max_length\n",
    "led.config.min_length = 256\n",
    "led.config.early_stopping = True\n",
    "led.config.no_repeat_ngram_size = 4\n",
    "\n",
    "# instantiate trainer\n",
    "trainer = Seq2SeqTrainer(\n",
    "    model=led,\n",
    "    tokenizer=tokenizer,\n",
    "    args=training_args,\n",
    "    compute_metrics=compute_metrics,\n",
    "    train_dataset=train_dataset,\n",
    "    eval_dataset=val_dataset,\n",
    ")"
   ]
  },
  {
   "cell_type": "code",
   "execution_count": null,
   "metadata": {},
   "outputs": [
    {
     "name": "stderr",
     "output_type": "stream",
     "text": [
      "  0%|          | 1/5271 [37:14<3271:04:27, 2234.51s/it]"
     ]
    }
   ],
   "source": [
    "trainer.train()\n",
    "trainer.save_model(\"./final_model/IN_model\")"
   ]
  }
 ],
 "metadata": {
  "kernelspec": {
   "display_name": "newenv",
   "language": "python",
   "name": "python3"
  },
  "language_info": {
   "codemirror_mode": {
    "name": "ipython",
    "version": 3
   },
   "file_extension": ".py",
   "mimetype": "text/x-python",
   "name": "python",
   "nbconvert_exporter": "python",
   "pygments_lexer": "ipython3",
   "version": "3.9.20"
  }
 },
 "nbformat": 4,
 "nbformat_minor": 2
}
