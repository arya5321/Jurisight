{
 "cells": [
  {
   "cell_type": "code",
   "execution_count": 1,
   "metadata": {},
   "outputs": [
    {
     "name": "stderr",
     "output_type": "stream",
     "text": [
      "c:\\Users\\Dell\\.conda\\envs\\newenv\\lib\\site-packages\\tqdm\\auto.py:21: TqdmWarning: IProgress not found. Please update jupyter and ipywidgets. See https://ipywidgets.readthedocs.io/en/stable/user_install.html\n",
      "  from .autonotebook import tqdm as notebook_tqdm\n"
     ]
    }
   ],
   "source": [
    "from transformers import AutoModelForSeq2SeqLM, AutoTokenizer\n",
    "\n",
    "# Load the fine-tuned model and tokenizer\n",
    "model_path = \"./final_model/IN_model\"\n",
    "model = AutoModelForSeq2SeqLM.from_pretrained(model_path)\n",
    "tokenizer = AutoTokenizer.from_pretrained(model_path)"
   ]
  },
  {
   "cell_type": "code",
   "execution_count": 2,
   "metadata": {},
   "outputs": [],
   "source": [
    "def summarize_legal_document(document_text, max_input_length=512, max_output_length=128):\n",
    "    # Tokenize the input document\n",
    "    inputs = tokenizer(\n",
    "        document_text, \n",
    "        max_length=max_input_length, \n",
    "        padding=\"max_length\", \n",
    "        truncation=True, \n",
    "        return_tensors=\"pt\"\n",
    "    )\n",
    "    \n",
    "    # Generate summary (can adjust num_beams and max_length for different summarization styles)\n",
    "    summary_ids = model.generate(\n",
    "        inputs[\"input_ids\"], \n",
    "        num_beams=4, \n",
    "        max_length=max_output_length, \n",
    "        early_stopping=True\n",
    "    )\n",
    "    \n",
    "    # Decode the generated summary tokens\n",
    "    summary_text = tokenizer.decode(summary_ids[0], skip_special_tokens=True)\n",
    "    return summary_text"
   ]
  },
  {
   "cell_type": "code",
   "execution_count": 3,
   "metadata": {},
   "outputs": [
    {
     "name": "stderr",
     "output_type": "stream",
     "text": [
      "Input ids are automatically padded from 512 to 1024 to be a multiple of `config.attention_window`: 1024\n",
      "c:\\Users\\Dell\\.conda\\envs\\newenv\\lib\\site-packages\\transformers\\generation\\utils.py:1399: UserWarning: Unfeasible length constraints: `min_length` (256) is larger than the maximum possible length (128). Generation will stop at the defined maximum length. You should decrease the minimum length and/or increase the maximum length.\n",
      "  warnings.warn(\n"
     ]
    },
    {
     "name": "stdout",
     "output_type": "stream",
     "text": [
      "Summary of the legal document:\n",
      "The appellant sought legal advice regarding a dispute in a construction contract. The consultation took place on November 8, 2024, via an in-person meeting at our New York City office. The primary goal of this session was to understand Mr. Anderson 's objectives, review the relevant facts, and outline a preliminary strategy. The main object of the consultation was to seek compensation for an alleged breach of contract by the contractor, who he claims did not fulfill the agreed upon terms for constructing an addition to his residential property. Mr. Anderson emphasized the importance of a swift resolution, ideally through settlement, to avoid further delays in completing the construction.\n"
     ]
    }
   ],
   "source": [
    "# Example usage\n",
    "document_text = \"\"\"\n",
    "Client Interaction Report\n",
    "Date of Interaction: November 8, 2024\n",
    " Client Name: John M. Anderson\n",
    " Matter: Breach of Contract in Construction Agreement\n",
    " Attorney: Susan K. Meyers\n",
    "Background and Introduction\n",
    "This report summarizes the initial consultation with Mr. John M. Anderson, who sought legal advice regarding a dispute in a construction contract. The consultation took place on November 8, 2024, via an in-person meeting at our New York City office. The primary goal of this session was to understand Mr. Anderson’s objectives, review the relevant facts, and outline a preliminary strategy.\n",
    "Client’s Objectives\n",
    "Mr. Anderson's primary goal is to seek compensation for an alleged breach of contract by the contractor, ABC Builders Inc., who he claims did not fulfill the agreed-upon terms for constructing an addition to his residential property. Mr. Anderson emphasized the importance of a swift resolution, ideally through settlement, to avoid further delays in completing the construction. However, he is open to pursuing legal action if necessary to secure compensation for damages and additional costs.\n",
    "Facts Presented by the Client\n",
    "Mr. Anderson provided an account of events, beginning with the execution of the construction agreement with ABC Builders on June 15, 2024. Under this agreement, ABC Builders was to complete a two-room addition to Mr. Anderson’s property by October 1, 2024. The contract specified materials, labor costs, and construction milestones. However, Mr. Anderson states that ABC Builders halted work on September 20, citing unexpected cost increases and demanding an additional $20,000 above the agreed contract amount to complete the project. Mr. Anderson refused to pay the additional amount, asserting that it violated the fixed-price contract terms.\n",
    "Relevant Documentation:\n",
    " The client provided copies of the construction agreement, dated communications with ABC Builders, and an itemized list of additional expenses incurred due to the construction delay. These documents will require detailed examination to determine the obligations and rights of each party under the contract.\n",
    "Legal Analysis\n",
    "Based on the initial facts and documentation, it appears that ABC Builders may have breached the contract by unilaterally demanding additional payment and failing to complete the project within the agreed timeframe. Further analysis is needed to determine the enforceability of the fixed-price clause in the contract and evaluate whether Mr. Anderson could seek damages for project delays and additional expenses.\n",
    "The key legal issues that need to be addressed are as follows:\n",
    "Contractual Breach – Verification of the contract’s fixed-price terms and whether ABC Builders’ demand for additional funds constitutes a breach.\n",
    "Remedies for Damages – Analysis of the potential recovery for Mr. Anderson, including compensatory damages for delay and additional living expenses if they are deemed necessary to complete the construction.\n",
    "Next Steps\n",
    "Document Review – A comprehensive review of the contract terms, along with all correspondence between Mr. Anderson and ABC Builders.\n",
    "Legal Research – Examination of relevant state statutes and case law regarding construction contracts and the enforcement of fixed-price clauses.\n",
    "Settlement Exploration – Given Mr. Anderson’s preference for a swift resolution, a formal demand letter will be prepared, outlining ABC Builders’ contractual breach and proposing settlement terms to complete the project.\n",
    "Potential Litigation Preparation – If settlement discussions are unproductive, we will prepare for potential litigation to protect Mr. Anderson’s interests and recover damages.\n",
    "Initial Recommendations\n",
    "Mr. Anderson was advised that the next step will involve sending a formal demand letter to ABC Builders to attempt a resolution without court intervention. The letter will emphasize Mr. Anderson’s readiness to pursue legal remedies if the contractor fails to meet its obligations or provide adequate compensation. Mr. Anderson was also informed that litigation may be required if ABC Builders does not agree to a fair settlement, given the strength of his position under the fixed-price clause.\n",
    "Conclusion\n",
    "The consultation with Mr. Anderson provided a solid understanding of his concerns and goals. As we proceed, we will prioritize achieving a swift settlement, while preparing for litigation if necessary to protect his financial interests and ensure project completion. A follow-up meeting will be scheduled after the demand letter is sent to discuss ABC Builders’ response and potential next steps.\n",
    "Submitted by:\n",
    " Susan K. Meyers\n",
    " Meyers & Associates Law Firm\n",
    " Contact: [Phone Number] / [Email Address]\n",
    "\"\"\"\n",
    "\n",
    "summary = summarize_legal_document(document_text)\n",
    "print(\"Summary of the legal document:\")\n",
    "print(summary)\n"
   ]
  }
 ],
 "metadata": {
  "kernelspec": {
   "display_name": "newenv",
   "language": "python",
   "name": "python3"
  },
  "language_info": {
   "codemirror_mode": {
    "name": "ipython",
    "version": 3
   },
   "file_extension": ".py",
   "mimetype": "text/x-python",
   "name": "python",
   "nbconvert_exporter": "python",
   "pygments_lexer": "ipython3",
   "version": "3.9.20"
  }
 },
 "nbformat": 4,
 "nbformat_minor": 2
}
